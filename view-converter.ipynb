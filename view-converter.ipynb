{
 "cells": [
  {
   "cell_type": "markdown",
   "metadata": {},
   "source": [
    "# Tutorial - Converter View para Materialized View\n",
    "\n",
    "Este material demonstra de maneira simplificada **como uma view comum pode ser transformada em uma view materializada por meio de um script**. No exemplo aplicado, basicamente tenta-se criar uma view materializada utilizando o mesmo conteúdo de SQL já existente na view comum - apenas incrementando a instrução `CREATE MATERIALIZED VIEW`.\n",
    "\n",
    "Além de demonstrar a possibilidade de conversão, **objetiva-se também incentivar a evolução de um algorítimo** que proporcione um método de conversão mais amplo, **adaptando incompatibilidades entre uma view comum e uma view materializada sem afetar a regra de negócio** - por exemplo a remoção de cláusulas `ORDER BY` - que não são permitidas numa view materializada.\n",
    "\n",
    "Os pré-requisitos para criar uma view materializada bem como suas limitações, podem ser verificados aqui https://cloud.google.com/bigquery/docs/materialized-views\n",
    "\n",
    "- Neste exemplo, as views convencionais que puderem ser convertidas em views materializadas, serão criadas com o mesmo nome, no mesmo projeto e dataset da view comum, porém com o prefixo `MVW_`\n",
    "\n",
    "- O resulado final das tentativas de convesão (bem sucedidas ou não), serão exportados para o arquivo `resultado_conversao.json`\n",
    "\n",
    "Antes de executar este arquivo, é necessário **executar os passos de 1 a 6 do aquivo `view-streaming.ipynb`**\n",
    "   \n",
    "  \n",
    "_Rubens Mussi Cury_     \n",
    "🥇Google Cloud Certified   \n",
    "rubensmussicury@gmail.com   "
   ]
  },
  {
   "cell_type": "markdown",
   "metadata": {},
   "source": [
    "## Bibliotecas\n",
    "* Conta de Serviço - https://cloud.google.com/docs/authentication/production\n",
    "* BigQuery - https://cloud.google.com/bigquery/docs/how-to e https://google-cloud-python.readthedocs.io/en/0.32.0/bigquery/usage.html\n",
    "* Exceções - https://google-cloud-python.readthedocs.io/en/0.32.0/core/exceptions.html"
   ]
  },
  {
   "cell_type": "code",
   "execution_count": null,
   "metadata": {},
   "outputs": [],
   "source": [
    "import os\n",
    "import json\n",
    "from google.oauth2 import service_account\n",
    "from google.cloud import bigquery\n",
    "from google.api_core.exceptions import BadRequest, Conflict"
   ]
  },
  {
   "cell_type": "markdown",
   "metadata": {},
   "source": [
    "## Autenticação\n",
    "* https://cloud.google.com/iam/docs/creating-managing-service-account-keys?hl=pt-br\n",
    "* Via `os.environ[\"GOOGLE_APPLICATION_CREDENTIALS\"]`\n",
    "* Via service_account.Credentials()"
   ]
  },
  {
   "cell_type": "code",
   "execution_count": null,
   "metadata": {},
   "outputs": [],
   "source": [
    "# Caminho completo da chave de serviço\n",
    "gcp_credential_file = \"sua-chave-aqui.json\"\n",
    "\n",
    "# Autenticação na conta de serviço.\n",
    "os.environ[\"GOOGLE_APPLICATION_CREDENTIALS\"] = gcp_credential_file\n",
    "\n",
    "# Utilize esta forma de credencial para autenticar diretamente pelo SDK.\n",
    "# credentials = service_account.Credentials.from_service_account_file(gcp_credential_file)\n",
    "# client = bigquery.Client(credentials=credentials)"
   ]
  },
  {
   "cell_type": "markdown",
   "metadata": {},
   "source": [
    "## Definição do Ambiente\n",
    "- Identificação do Projeto\n",
    "- Listar Datasets\n",
    "- Encontrar `VIEW`\n",
    "- Tentar transformá-las em `MATERIALIZED_VIEW`"
   ]
  },
  {
   "cell_type": "code",
   "execution_count": null,
   "metadata": {},
   "outputs": [],
   "source": [
    "# Instancia o Client do BQ.\n",
    "bq_client = bigquery.Client()\n",
    "\n",
    "# Define único global do projeto.\n",
    "project_id = bq_client.project"
   ]
  },
  {
   "cell_type": "code",
   "execution_count": null,
   "metadata": {},
   "outputs": [],
   "source": [
    "# Obtém a lista de datasets existentes no projeto.\n",
    "dataset_list = list(bq_client.list_datasets())\n",
    "\n",
    "dataset_ids = []\n",
    "for dataset in dataset_list:\n",
    "    dataset_ids.append(dataset.dataset_id)"
   ]
  },
  {
   "cell_type": "markdown",
   "metadata": {},
   "source": [
    "## Realiza a Conversão\n",
    "- Percorre um a um das objetos de cada dataset\n",
    "- Verifica se é um `VIEW`\n",
    "- Tenta converter para `MATERIALIZED_VIEW`\n",
    "- Gera arquivo retorno das conversões"
   ]
  },
  {
   "cell_type": "code",
   "execution_count": null,
   "metadata": {},
   "outputs": [],
   "source": [
    "# Resultado de saída.\n",
    "output_json = {} \n",
    "\n",
    "# Percorre datasets.\n",
    "for dataset_id in dataset_ids:\n",
    "    \n",
    "    # Obtém todos os objetos contidos no dataset.\n",
    "    dataset_objects = bq_client.list_tables(dataset_id)\n",
    "    \n",
    "    # Percorre cada um dos objetos do dataset.\n",
    "    for dataset_object in dataset_objects:\n",
    "\n",
    "        # Determina o nome completo do objeto no formato project.dataset.objectId\n",
    "        object_id = \"{0}.{1}.{2}\".format(dataset_object.project, dataset_object.dataset_id, dataset_object.table_id)\n",
    "        \n",
    "        # Verifica se o objeto é uma view comum.\n",
    "        if dataset_object.table_type == \"VIEW\":\n",
    "            \n",
    "            # Busca e instancia objeto corrente.\n",
    "            fetched_object = bq_client.get_table(object_id)\n",
    "            \n",
    "            # Define o nome que será utilizado para a view materializada no formato project.dataset.MVW_objectId\n",
    "            mview_name = \"{0}.{1}.MVW_{2}\".format(dataset_object.project,\n",
    "                                                  dataset_object.dataset_id,\n",
    "                                                  dataset_object.table_id)\n",
    "            \n",
    "            # Define a sintaxe para criação de uma `MATERIALIED_VIEW`\n",
    "            mview_sintax = \"CREATE MATERIALIZED VIEW `{0}` AS \\n {1}\".format(mview_name, fetched_object.view_query)\n",
    "            # Executa job no BigQuery com a sintaxe em SQL.\n",
    "            executed_job = bq_client.query(mview_sintax)\n",
    "            \n",
    "            try:\n",
    "                # Aguarda o término da execução do job.\n",
    "                executed_job.result()\n",
    "                \n",
    "                opt_result = \"Success\"\n",
    "                opt_error_type = \"\"\n",
    "                opt_materialized_view = mview_name\n",
    "                opt_message = \"View convertida com sucesso\"\n",
    "            \n",
    "            # Chamada inválida.\n",
    "            except BadRequest as e:\n",
    "                opt_result = \"Error\"\n",
    "                opt_error_type = \"BadRequest\"\n",
    "                opt_materialized_view = \"\"\n",
    "                opt_message = \"/n\".join(e.args)\n",
    "                \n",
    "            # Objeto já existente.\n",
    "            except BadRequest as e:\n",
    "                opt_result = \"Error\"\n",
    "                opt_error_type = \"AlreadyExists\"\n",
    "                opt_materialized_view = \"\"\n",
    "                opt_message = \"/n\".join(e.args)\n",
    "            \n",
    "            # Exceção genérica.\n",
    "            except Exception as e:\n",
    "                opt_result = \"Error\"\n",
    "                opt_error_type = \"CheckErrorMessage\"\n",
    "                opt_materialized_view = \"\"\n",
    "                opt_message = \"/n\".join(e.args)\n",
    "            \n",
    "            job_id = executed_job.job_id\n",
    "            output_json[job_id] = {}\n",
    "            output_json[job_id][\"result\"] = opt_result \n",
    "            output_json[job_id][\"error_type\"] = opt_error_type \n",
    "            output_json[job_id][\"regular_view\"] = object_id\n",
    "            output_json[job_id][\"materialized_view\"] = opt_materialized_view\n",
    "            output_json[job_id][\"message\"] = opt_message\n",
    "\n",
    "# Gera JSON com resultado das conversões.\n",
    "with open('resultado_conversao.json', 'w') as outfile:\n",
    "    json.dump(output_json, outfile, indent=4)"
   ]
  }
 ],
 "metadata": {
  "kernelspec": {
   "display_name": "Python 3",
   "language": "python",
   "name": "python3"
  },
  "language_info": {
   "codemirror_mode": {
    "name": "ipython",
    "version": 3
   },
   "file_extension": ".py",
   "mimetype": "text/x-python",
   "name": "python",
   "nbconvert_exporter": "python",
   "pygments_lexer": "ipython3",
   "version": "3.7.6"
  }
 },
 "nbformat": 4,
 "nbformat_minor": 2
}
